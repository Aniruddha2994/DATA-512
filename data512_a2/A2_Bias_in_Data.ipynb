{
 "cells": [
  {
   "cell_type": "markdown",
   "metadata": {},
   "source": [
    "# DATA 512- A2: Bias in Data"
   ]
  },
  {
   "cell_type": "markdown",
   "metadata": {},
   "source": [
    "The purpose of this notebook is to explore and analyze the <i>toxicity</i> dataset from the <b>Wikipedia Talk corpus</b>, and indentify the source of inherent bias if present in the data."
   ]
  },
  {
   "cell_type": "markdown",
   "metadata": {},
   "source": [
    "### Contents:\n",
    "1. Loading the data\n",
    "2. Exploratory Analysis"
   ]
  },
  {
   "cell_type": "markdown",
   "metadata": {},
   "source": [
    "## 1. Loading the data"
   ]
  },
  {
   "cell_type": "markdown",
   "metadata": {},
   "source": [
    "For the purpose of this assignment, we download the Wikipedia Talk labels dataset from [Figshare](https://figshare.com/projects/Wikipedia_Talk/16731). This data set includes over 100k labeled discussion comments from English Wikipedia. Each comment was labeled by multiple annotators via Crowdflower on whether it is a toxic or healthy contribution. We also include some demographic data for each crowd-worker.\n",
    "We need the following data-sets for our analysis:\n",
    "\n",
    "<b>Toxicity</b>\n",
    "1. toxicity_annotated_comments.tsv\n",
    "2. toxicity_annotations.tsv\n",
    "3. toxicity_worker_demographic.tsv \\\n",
    "[available here-](https://figshare.com/articles/dataset/Wikipedia_Talk_Labels_Toxicity/4563973)\n",
    "\n",
    "<b>Personal Attacks</b>\n",
    "1. attack_annotated_comments.tsv\n",
    "2. attack_annotations.tsv \\\n",
    "[available here-](https://figshare.com/articles/dataset/Wikipedia_Talk_Labels_Personal_Attacks/4054689)"
   ]
  },
  {
   "cell_type": "code",
   "execution_count": 21,
   "metadata": {},
   "outputs": [],
   "source": [
    "import pandas as pd\n",
    "import urllib\n",
    "import matplotlib.pyplot as plt\n",
    "import numpy as np\n",
    "import seaborn as sns\n",
    "import nltk\n",
    "from nltk import word_tokenize, pos_tag, pos_tag_sents\n",
    "from nltk.corpus import wordnet\n",
    "from collections import Counter"
   ]
  },
  {
   "cell_type": "markdown",
   "metadata": {},
   "source": [
    "Defining a function to fetch data from the specified URL:"
   ]
  },
  {
   "cell_type": "code",
   "execution_count": 2,
   "metadata": {},
   "outputs": [],
   "source": [
    "def download_data(url, file_name):\n",
    "    urllib.request.urlretrieve(url, file_name)"
   ]
  },
  {
   "cell_type": "code",
   "execution_count": 3,
   "metadata": {},
   "outputs": [],
   "source": [
    "#Setting up the URLs for the respective files\n",
    "toxic_comments_URL = 'https://ndownloader.figshare.com/files/7394542' \n",
    "toxic_annotations_URL = 'https://ndownloader.figshare.com/files/7394539' \n",
    "toxic_demographic_URL = 'https://ndownloader.figshare.com/files/7640581'\n",
    "attack_comments_URL = 'https://ndownloader.figshare.com/files/7554634' \n",
    "attack_annotations_URL = 'https://ndownloader.figshare.com/files/7554637' \n",
    "\n",
    "\n",
    "#Downloading the required files\n",
    "download_data(toxic_comments_URL, 'toxicity_annotated_comments.tsv')\n",
    "download_data(toxic_annotations_URL, 'toxicity_annotations.tsv')\n",
    "download_data(toxic_demographic_URL, 'toxicity_worker_demographic.tsv')\n",
    "download_data(attack_comments_URL, 'attack_annotated_comments.tsv')\n",
    "download_data(attack_annotations_URL, 'attack_annotations.tsv')\n"
   ]
  },
  {
   "cell_type": "markdown",
   "metadata": {},
   "source": [
    "Read the downloaded files as pandas dataframe"
   ]
  },
  {
   "cell_type": "code",
   "execution_count": 4,
   "metadata": {},
   "outputs": [],
   "source": [
    "# Toxicity data\n",
    "t_comments = pd.read_csv('toxicity_annotated_comments.tsv', sep = '\\t')\n",
    "t_annotations = pd.read_csv('toxicity_annotations.tsv',  sep = '\\t')\n",
    "worker_demographic = pd.read_csv('toxicity_worker_demographic.tsv',  sep = '\\t')\n",
    "\n",
    "# Attacks data\n",
    "a_comments = pd.read_csv('attack_annotated_comments.tsv', sep = '\\t')\n",
    "a_annotations = pd.read_csv('attack_annotations.tsv', sep = '\\t')"
   ]
  },
  {
   "cell_type": "markdown",
   "metadata": {},
   "source": [
    "## 2. Exploratory Analysis"
   ]
  },
  {
   "cell_type": "markdown",
   "metadata": {},
   "source": [
    "In this section we analyze the Toxicity dataset, to determine presence of any inherent bias in the data. \n",
    "The annotators from Crowdflower were responsible for labeling the comments as either 'toxic' or 'healthy'. They did this by giving each comment a toxicity score ranging from -2(very toxic) to +2(very healthy) with 0 being neutral. Then the comments which received a toxicity score < 0 were flagged as toxic(1). Hence it is logical to think that the labeling of the comments is impacted by the demographics of the Crowflower annotators.\n",
    "\n",
    "In this section we will perform the following analyses:\n",
    "- Analyze influence of worker demographic on toxicity annotations\n",
    "- Identify most speech characteristics associated to toxicity\n",
    "- Comparative analysis of speech characteristics between toxicity and personal-attacks"
   ]
  },
  {
   "cell_type": "markdown",
   "metadata": {},
   "source": [
    "#### Analyze influence of worker demographic on toxicity annotations\n",
    "\n",
    "Gender difference plays a significant role in this scenario as people perceive and react differently to certain comments.\n",
    "- Influence of gender and age\n",
    "- Influence of gender and education"
   ]
  },
  {
   "cell_type": "markdown",
   "metadata": {},
   "source": [
    "Merge the annotations and worker_demographic data using an inner join, because for this analysis we do not want those annotation records for which worker_id is missing."
   ]
  },
  {
   "cell_type": "code",
   "execution_count": 6,
   "metadata": {
    "scrolled": true
   },
   "outputs": [
    {
     "data": {
      "text/plain": [
       "rev_id                    1346955\n",
       "worker_id                 1346955\n",
       "toxicity                  1346955\n",
       "toxicity_score            1346955\n",
       "gender                    1346955\n",
       "english_first_language    1346955\n",
       "age_group                 1317641\n",
       "education                 1346955\n",
       "dtype: int64"
      ]
     },
     "execution_count": 6,
     "metadata": {},
     "output_type": "execute_result"
    }
   ],
   "source": [
    "#1 Toxicity by gender and age\n",
    "df = t_annotations.merge(worker_demographic, left_on = 'worker_id', right_on = 'worker_id')\n",
    "df.count()"
   ]
  },
  {
   "cell_type": "markdown",
   "metadata": {},
   "source": [
    "Create two separate tables, one aggregated by age, gender and other by education, gender. \n",
    "\n",
    "Creating a calculated feild representing the 'percentage of comments' labelled as toxic for each group-by level."
   ]
  },
  {
   "cell_type": "code",
   "execution_count": 7,
   "metadata": {},
   "outputs": [],
   "source": [
    "\n",
    "df_age_gender = df.groupby(['gender', 'age_group'], as_index = False).agg({'toxicity':'sum', 'rev_id':'count'})\n",
    "df_edu_gender = df.groupby(['gender', 'education'], as_index = False).agg({'toxicity':'sum', 'rev_id':'count'})\n",
    "\n",
    "df_age_gender['toxic_annotations_percent'] = (df_age_gender['toxicity'] / df_age_gender['rev_id'])*100\n",
    "df_edu_gender['toxic_annotations_percent'] = (df_edu_gender['toxicity'] / df_edu_gender['rev_id'])*100"
   ]
  },
  {
   "cell_type": "code",
   "execution_count": 87,
   "metadata": {},
   "outputs": [
    {
     "data": {
      "text/plain": [
       "<matplotlib.legend.Legend at 0x1fc8cc337f0>"
      ]
     },
     "execution_count": 87,
     "metadata": {},
     "output_type": "execute_result"
    },
    {
     "data": {
      "image/png": "[encoded data removed]",
      "text/plain": [
       "<Figure size 1080x360 with 1 Axes>"
      ]
     },
     "metadata": {
      "needs_background": "light"
     },
     "output_type": "display_data"
    }
   ],
   "source": [
    "plt.figure(figsize=(15,5))\n",
    "ax = sns.barplot(y=\"toxicity\", hue=\"gender\", x=\"age_group\",\n",
    "            palette=\"pastel\", edgecolor=\".6\",\n",
    "            data=df_age_gender)\n",
    "ax.set(ylabel = \"Number of 'toxic' annotations\", xlabel = 'Age Group')\n",
    "ax.set_title(\"Influence of gender, age on Toxicity annotations\")\n",
    "\n",
    "plt.legend(bbox_to_anchor=(1.01, 0.63), loc=2, borderaxespad=0.)"
   ]
  },
  {
   "cell_type": "code",
   "execution_count": 88,
   "metadata": {},
   "outputs": [
    {
     "data": {
      "text/plain": [
       "<matplotlib.legend.Legend at 0x1fc8cbda780>"
      ]
     },
     "execution_count": 88,
     "metadata": {},
     "output_type": "execute_result"
    },
    {
     "data": {
      "image/png": "[encoded data removed]",
      "text/plain": [
       "<Figure size 1080x360 with 1 Axes>"
      ]
     },
     "metadata": {
      "needs_background": "light"
     },
     "output_type": "display_data"
    }
   ],
   "source": [
    "plt.figure(figsize=(15,5))\n",
    "ax = sns.barplot(y=\"toxicity\", hue=\"gender\", x=\"education\",\n",
    "            palette=\"pastel\", edgecolor=\".6\",\n",
    "            data=df_edu_gender)\n",
    "ax.set(ylabel = \"Number of 'toxic' annotations\", xlabel = 'Education')\n",
    "ax.set_title(\"Influence of gender, education on Toxicity annotations\")\n",
    "plt.legend(bbox_to_anchor=(1.01, 0.63), loc=2, borderaxespad=0.)\n"
   ]
  },
  {
   "cell_type": "code",
   "execution_count": 86,
   "metadata": {},
   "outputs": [
    {
     "data": {
      "text/plain": [
       "<matplotlib.legend.Legend at 0x1fc8cbbb3c8>"
      ]
     },
     "execution_count": 86,
     "metadata": {},
     "output_type": "execute_result"
    },
    {
     "data": {
      "image/png": "[encoded data removed]",
      "text/plain": [
       "<Figure size 1080x360 with 1 Axes>"
      ]
     },
     "metadata": {
      "needs_background": "light"
     },
     "output_type": "display_data"
    }
   ],
   "source": [
    "df_gender = df.groupby(['gender', 'english_first_language'], as_index = False).agg({'toxicity':'sum', 'rev_id':'count'})\n",
    "df_gender['toxic_annotations_percent'] = (df_age_gender['toxicity'] / df_age_gender['rev_id'])*100\n",
    "\n",
    "plt.figure(figsize=(15,5))\n",
    "ax = sns.barplot(y=\"toxicity\", hue=\"english_first_language\", x=\"gender\",\n",
    "            palette=\"pastel\", edgecolor=\".6\",\n",
    "            data=df_gender)\n",
    "ax.set(ylabel = \"Percentage of toxic annotations(%)\", xlabel = 'Gender')\n",
    "ax.set_title(\"Influence of gender and language on Toxicity annotations\")\n",
    "\n",
    "plt.legend(bbox_to_anchor=(1.01, 0.63), loc=2, borderaxespad=0.)"
   ]
  },
  {
   "cell_type": "code",
   "execution_count": null,
   "metadata": {},
   "outputs": [],
   "source": []
  },
  {
   "cell_type": "markdown",
   "metadata": {},
   "source": [
    "#### Identify most speech characteristics associated to toxicit"
   ]
  },
  {
   "cell_type": "markdown",
   "metadata": {},
   "source": [
    "In this section we find the keywords most associated with toxic comments, to understand it's text characteristics.\n",
    "\n",
    "To normalize the bias from worker demographic, we will subset the comments data for only those comments that are tagged as 'toxic' by more than 50% of the annotators. This will give us a relatively bias-free insight into the text characteristics."
   ]
  },
  {
   "cell_type": "code",
   "execution_count": 16,
   "metadata": {},
   "outputs": [],
   "source": [
    "# labels a comment as toxic if the majority of annoatators did so\n",
    "labels = t_annotations.groupby('rev_id', as_index = False)['toxicity'].mean()\n",
    "labels['toxic_flag'] = 'False'\n",
    "\n",
    "labels.loc[labels['toxicity'] > 0.5, 'toxic_flag'] = 'True'"
   ]
  },
  {
   "cell_type": "markdown",
   "metadata": {},
   "source": [
    "Add the new derived tocicity_flag to the comments table and subset only the toxic comments"
   ]
  },
  {
   "cell_type": "code",
   "execution_count": 17,
   "metadata": {},
   "outputs": [
    {
     "data": {
      "text/html": [
       "<div>\n",
       "<style scoped>\n",
       "    .dataframe tbody tr th:only-of-type {\n",
       "        vertical-align: middle;\n",
       "    }\n",
       "\n",
       "    .dataframe tbody tr th {\n",
       "        vertical-align: top;\n",
       "    }\n",
       "\n",
       "    .dataframe thead th {\n",
       "        text-align: right;\n",
       "    }\n",
       "</style>\n",
       "<table border=\"1\" class=\"dataframe\">\n",
       "  <thead>\n",
       "    <tr style=\"text-align: right;\">\n",
       "      <th></th>\n",
       "      <th>rev_id</th>\n",
       "      <th>comment</th>\n",
       "      <th>year</th>\n",
       "      <th>logged_in</th>\n",
       "      <th>ns</th>\n",
       "      <th>sample</th>\n",
       "      <th>split</th>\n",
       "      <th>toxic_flag</th>\n",
       "    </tr>\n",
       "  </thead>\n",
       "  <tbody>\n",
       "    <tr>\n",
       "      <th>82</th>\n",
       "      <td>597212.0</td>\n",
       "      <td>`NEWLINE_TOKENNEWLINE_TOKENAfter the wasted bi...</td>\n",
       "      <td>2003</td>\n",
       "      <td>False</td>\n",
       "      <td>article</td>\n",
       "      <td>random</td>\n",
       "      <td>test</td>\n",
       "      <td>True</td>\n",
       "    </tr>\n",
       "    <tr>\n",
       "      <th>211</th>\n",
       "      <td>1266286.0</td>\n",
       "      <td>NEWLINE_TOKENNEWLINE_TOKENNEWLINE_TOKENNEWLINE...</td>\n",
       "      <td>2003</td>\n",
       "      <td>True</td>\n",
       "      <td>user</td>\n",
       "      <td>random</td>\n",
       "      <td>test</td>\n",
       "      <td>True</td>\n",
       "    </tr>\n",
       "    <tr>\n",
       "      <th>245</th>\n",
       "      <td>1502668.0</td>\n",
       "      <td>BOOBS, BOOBS, BOOBS, BOOBS, BOOBS, BOOBS, BOOB...</td>\n",
       "      <td>2003</td>\n",
       "      <td>True</td>\n",
       "      <td>user</td>\n",
       "      <td>blocked</td>\n",
       "      <td>test</td>\n",
       "      <td>True</td>\n",
       "    </tr>\n",
       "    <tr>\n",
       "      <th>334</th>\n",
       "      <td>2187425.0</td>\n",
       "      <td>```Nazi filth`` is impolite  NEWLINE_TOKENNEWL...</td>\n",
       "      <td>2004</td>\n",
       "      <td>True</td>\n",
       "      <td>article</td>\n",
       "      <td>random</td>\n",
       "      <td>train</td>\n",
       "      <td>True</td>\n",
       "    </tr>\n",
       "    <tr>\n",
       "      <th>483</th>\n",
       "      <td>3129678.0</td>\n",
       "      <td>Prior to Quickpolls, he would have been perma...</td>\n",
       "      <td>2004</td>\n",
       "      <td>True</td>\n",
       "      <td>user</td>\n",
       "      <td>random</td>\n",
       "      <td>train</td>\n",
       "      <td>True</td>\n",
       "    </tr>\n",
       "  </tbody>\n",
       "</table>\n",
       "</div>"
      ],
      "text/plain": [
       "        rev_id                                            comment  year  \\\n",
       "82    597212.0  `NEWLINE_TOKENNEWLINE_TOKENAfter the wasted bi...  2003   \n",
       "211  1266286.0  NEWLINE_TOKENNEWLINE_TOKENNEWLINE_TOKENNEWLINE...  2003   \n",
       "245  1502668.0  BOOBS, BOOBS, BOOBS, BOOBS, BOOBS, BOOBS, BOOB...  2003   \n",
       "334  2187425.0  ```Nazi filth`` is impolite  NEWLINE_TOKENNEWL...  2004   \n",
       "483  3129678.0   Prior to Quickpolls, he would have been perma...  2004   \n",
       "\n",
       "     logged_in       ns   sample  split toxic_flag  \n",
       "82       False  article   random   test       True  \n",
       "211       True     user   random   test       True  \n",
       "245       True     user  blocked   test       True  \n",
       "334       True  article   random  train       True  \n",
       "483       True     user   random  train       True  "
      ]
     },
     "execution_count": 17,
     "metadata": {},
     "output_type": "execute_result"
    }
   ],
   "source": [
    "t_comments['toxic_flag'] = labels['toxic_flag']\n",
    "\n",
    "toxic = t_comments[t_comments['toxic_flag']== 'True']\n",
    "toxic.head(5)"
   ]
  },
  {
   "cell_type": "markdown",
   "metadata": {},
   "source": [
    "Clean the data by removing unwanted strings from the comments"
   ]
  },
  {
   "cell_type": "code",
   "execution_count": 18,
   "metadata": {
    "collapsed": true
   },
   "outputs": [
    {
     "name": "stderr",
     "output_type": "stream",
     "text": [
      "C:\\Users\\Frost\\Anaconda3\\lib\\site-packages\\ipykernel_launcher.py:1: SettingWithCopyWarning: \n",
      "A value is trying to be set on a copy of a slice from a DataFrame.\n",
      "Try using .loc[row_indexer,col_indexer] = value instead\n",
      "\n",
      "See the caveats in the documentation: http://pandas.pydata.org/pandas-docs/stable/indexing.html#indexing-view-versus-copy\n",
      "  \"\"\"Entry point for launching an IPython kernel.\n",
      "C:\\Users\\Frost\\Anaconda3\\lib\\site-packages\\ipykernel_launcher.py:2: SettingWithCopyWarning: \n",
      "A value is trying to be set on a copy of a slice from a DataFrame.\n",
      "Try using .loc[row_indexer,col_indexer] = value instead\n",
      "\n",
      "See the caveats in the documentation: http://pandas.pydata.org/pandas-docs/stable/indexing.html#indexing-view-versus-copy\n",
      "  \n",
      "C:\\Users\\Frost\\Anaconda3\\lib\\site-packages\\ipykernel_launcher.py:3: SettingWithCopyWarning: \n",
      "A value is trying to be set on a copy of a slice from a DataFrame.\n",
      "Try using .loc[row_indexer,col_indexer] = value instead\n",
      "\n",
      "See the caveats in the documentation: http://pandas.pydata.org/pandas-docs/stable/indexing.html#indexing-view-versus-copy\n",
      "  This is separate from the ipykernel package so we can avoid doing imports until\n",
      "C:\\Users\\Frost\\Anaconda3\\lib\\site-packages\\ipykernel_launcher.py:4: SettingWithCopyWarning: \n",
      "A value is trying to be set on a copy of a slice from a DataFrame.\n",
      "Try using .loc[row_indexer,col_indexer] = value instead\n",
      "\n",
      "See the caveats in the documentation: http://pandas.pydata.org/pandas-docs/stable/indexing.html#indexing-view-versus-copy\n",
      "  after removing the cwd from sys.path.\n",
      "C:\\Users\\Frost\\Anaconda3\\lib\\site-packages\\ipykernel_launcher.py:5: SettingWithCopyWarning: \n",
      "A value is trying to be set on a copy of a slice from a DataFrame.\n",
      "Try using .loc[row_indexer,col_indexer] = value instead\n",
      "\n",
      "See the caveats in the documentation: http://pandas.pydata.org/pandas-docs/stable/indexing.html#indexing-view-versus-copy\n",
      "  \"\"\"\n",
      "C:\\Users\\Frost\\Anaconda3\\lib\\site-packages\\ipykernel_launcher.py:6: SettingWithCopyWarning: \n",
      "A value is trying to be set on a copy of a slice from a DataFrame.\n",
      "Try using .loc[row_indexer,col_indexer] = value instead\n",
      "\n",
      "See the caveats in the documentation: http://pandas.pydata.org/pandas-docs/stable/indexing.html#indexing-view-versus-copy\n",
      "  \n"
     ]
    }
   ],
   "source": [
    "toxic['comment'] = toxic['comment'].apply(lambda x: x.replace(\"TOKEN\", \"\"))\n",
    "toxic['comment'] = toxic['comment'].apply(lambda x: x.replace(\"TAB_TOKEN\", \"\"))\n",
    "toxic['comment'] = toxic['comment'].apply(lambda x: x.replace(\"NEWLINE\", \"\"))\n",
    "toxic['comment'] = toxic['comment'].apply(lambda x: x.replace(\"_\", \"\"))\n",
    "toxic['comment'] = toxic['comment'].apply(lambda x: x.replace(\"==\", \"\"))\n",
    "toxic['comment'] = toxic['comment'].apply(lambda x: x.replace(\"===\", \"\"))"
   ]
  },
  {
   "cell_type": "code",
   "execution_count": 19,
   "metadata": {
    "scrolled": false
   },
   "outputs": [
    {
     "data": {
      "text/html": [
       "<div>\n",
       "<style scoped>\n",
       "    .dataframe tbody tr th:only-of-type {\n",
       "        vertical-align: middle;\n",
       "    }\n",
       "\n",
       "    .dataframe tbody tr th {\n",
       "        vertical-align: top;\n",
       "    }\n",
       "\n",
       "    .dataframe thead th {\n",
       "        text-align: right;\n",
       "    }\n",
       "</style>\n",
       "<table border=\"1\" class=\"dataframe\">\n",
       "  <thead>\n",
       "    <tr style=\"text-align: right;\">\n",
       "      <th></th>\n",
       "      <th>rev_id</th>\n",
       "      <th>comment</th>\n",
       "      <th>year</th>\n",
       "      <th>logged_in</th>\n",
       "      <th>ns</th>\n",
       "      <th>sample</th>\n",
       "      <th>split</th>\n",
       "      <th>toxic_flag</th>\n",
       "    </tr>\n",
       "  </thead>\n",
       "  <tbody>\n",
       "    <tr>\n",
       "      <th>82</th>\n",
       "      <td>597212.0</td>\n",
       "      <td>`After the wasted bit on his sexuality, I have...</td>\n",
       "      <td>2003</td>\n",
       "      <td>False</td>\n",
       "      <td>article</td>\n",
       "      <td>random</td>\n",
       "      <td>test</td>\n",
       "      <td>True</td>\n",
       "    </tr>\n",
       "    <tr>\n",
       "      <th>211</th>\n",
       "      <td>1266286.0</td>\n",
       "      <td>Erik, for crying out loud. You legally can hav...</td>\n",
       "      <td>2003</td>\n",
       "      <td>True</td>\n",
       "      <td>user</td>\n",
       "      <td>random</td>\n",
       "      <td>test</td>\n",
       "      <td>True</td>\n",
       "    </tr>\n",
       "    <tr>\n",
       "      <th>245</th>\n",
       "      <td>1502668.0</td>\n",
       "      <td>BOOBS, BOOBS, BOOBS, BOOBS, BOOBS, BOOBS, BOOB...</td>\n",
       "      <td>2003</td>\n",
       "      <td>True</td>\n",
       "      <td>user</td>\n",
       "      <td>blocked</td>\n",
       "      <td>test</td>\n",
       "      <td>True</td>\n",
       "    </tr>\n",
       "    <tr>\n",
       "      <th>334</th>\n",
       "      <td>2187425.0</td>\n",
       "      <td>```Nazi filth`` is impolite  `</td>\n",
       "      <td>2004</td>\n",
       "      <td>True</td>\n",
       "      <td>article</td>\n",
       "      <td>random</td>\n",
       "      <td>train</td>\n",
       "      <td>True</td>\n",
       "    </tr>\n",
       "    <tr>\n",
       "      <th>483</th>\n",
       "      <td>3129678.0</td>\n",
       "      <td>Prior to Quickpolls, he would have been perma...</td>\n",
       "      <td>2004</td>\n",
       "      <td>True</td>\n",
       "      <td>user</td>\n",
       "      <td>random</td>\n",
       "      <td>train</td>\n",
       "      <td>True</td>\n",
       "    </tr>\n",
       "  </tbody>\n",
       "</table>\n",
       "</div>"
      ],
      "text/plain": [
       "        rev_id                                            comment  year  \\\n",
       "82    597212.0  `After the wasted bit on his sexuality, I have...  2003   \n",
       "211  1266286.0  Erik, for crying out loud. You legally can hav...  2003   \n",
       "245  1502668.0  BOOBS, BOOBS, BOOBS, BOOBS, BOOBS, BOOBS, BOOB...  2003   \n",
       "334  2187425.0                     ```Nazi filth`` is impolite  `  2004   \n",
       "483  3129678.0   Prior to Quickpolls, he would have been perma...  2004   \n",
       "\n",
       "     logged_in       ns   sample  split toxic_flag  \n",
       "82       False  article   random   test       True  \n",
       "211       True     user   random   test       True  \n",
       "245       True     user  blocked   test       True  \n",
       "334       True  article   random  train       True  \n",
       "483       True     user   random  train       True  "
      ]
     },
     "execution_count": 19,
     "metadata": {},
     "output_type": "execute_result"
    }
   ],
   "source": [
    "toxic.head()"
   ]
  },
  {
   "cell_type": "markdown",
   "metadata": {},
   "source": [
    " "
   ]
  },
  {
   "cell_type": "markdown",
   "metadata": {},
   "source": [
    "Here we use the <b>nltk</b> package to tokenize and tag the comments inorder to identify and extract nouns, verbs and adjectives from the text present in the data.\n",
    "\n",
    "We will then get the most frequent keywords associated with toxicity, using the 'Counter' function from the <b>collections</b> package."
   ]
  },
  {
   "cell_type": "code",
   "execution_count": 27,
   "metadata": {},
   "outputs": [],
   "source": [
    "tokens = pos_tag_sents(toxic[\"comment\"].apply(word_tokenize).tolist())"
   ]
  },
  {
   "cell_type": "markdown",
   "metadata": {},
   "source": [
    "The above code returns a list of touples containing the words and their corresponding pos_tag. \\\n",
    "For eg: \n",
    "[('Rome','NN'), ('beautiful','JJ')]\n",
    "\n",
    "We will subset the nouns and adjectives from each text as these are most likely to be the keywords associated to toxicity."
   ]
  },
  {
   "cell_type": "code",
   "execution_count": 38,
   "metadata": {},
   "outputs": [],
   "source": [
    "\n",
    "words = []\n",
    "for rows in tokens:\n",
    "    r = [t[0] for t in rows if t[1] in ['NNP', 'NN', 'JJ']]\n",
    "    words.append(r)"
   ]
  },
  {
   "cell_type": "code",
   "execution_count": 39,
   "metadata": {},
   "outputs": [
    {
     "data": {
      "text/plain": [
       "317070"
      ]
     },
     "execution_count": 39,
     "metadata": {},
     "output_type": "execute_result"
    }
   ],
   "source": [
    "#Flatten the sublists into a single list\n",
    "words_flat = [item for sublist in words for item in sublist]\n",
    "\n",
    "len(words_flat)"
   ]
  },
  {
   "cell_type": "code",
   "execution_count": 66,
   "metadata": {},
   "outputs": [],
   "source": [
    "# Counting the most frequent words (atleast 1000 occurances) in the toxic comments\n",
    "words_flat = [x.lower() for x in words_flat]\n",
    "keywords = Counter(words_flat).most_common(1000)\n",
    "\n",
    "toxicity_keywords_df = pd.DataFrame(keywords[0:20], columns =['Keyword', 'Count']) "
   ]
  },
  {
   "cell_type": "code",
   "execution_count": 67,
   "metadata": {},
   "outputs": [],
   "source": [
    "toxicity_keywords_df['total_comments'] = len(toxic['comment'])\n",
    "toxicity_keywords_df['Frequency(%)'] = (toxicity_keywords_df['Count']/toxicity_keywords_df['total_comments'])*100\n",
    "\n",
    "#List of unwanted words that might pass through the pos_tag filter\n",
    "stopwords = ['you', 'my', 'i', 'u', 'a']\n",
    "\n",
    "toxicity_keywords_df_clean = toxicity_keywords_df[~toxicity_keywords_df['Keyword'].isin(stopwords)]"
   ]
  },
  {
   "cell_type": "markdown",
   "metadata": {},
   "source": [
    "Ploting the most associated keywords to toxicity"
   ]
  },
  {
   "cell_type": "code",
   "execution_count": 68,
   "metadata": {},
   "outputs": [
    {
     "data": {
      "image/png": "[encoded data removed]",
      "text/plain": [
       "<Figure size 576x576 with 1 Axes>"
      ]
     },
     "metadata": {
      "needs_background": "light"
     },
     "output_type": "display_data"
    }
   ],
   "source": [
    "fig, ax = plt.subplots(figsize=(8, 8))\n",
    "\n",
    "# Plot horizontal bar graph\n",
    "toxicity_keywords_df_clean.sort_values(by='Frequency(%)').plot.barh(x='Keyword',\n",
    "                      y='Frequency(%)',\n",
    "                      ax=ax,\n",
    "                      color=\"purple\")\n",
    "\n",
    "ax.set_title(\"Keywords most associated with 'toxicity'\")\n",
    "\n",
    "plt.show()"
   ]
  },
  {
   "cell_type": "markdown",
   "metadata": {},
   "source": [
    "#### Comparative analysis of speech characteristics between toxicity and personal-attacks\n",
    "\n",
    "\n",
    "In this section we find the keywords most associated with personal attacks, to understand it's text characteristics and compare them with the characteristics of the 'toxicity' dataset.\n",
    "\n",
    "To normalize the bias from worker demographic, we will subset the comments data for only those comments that are tagged as 'personal attack' by more than 50% of the annotators. This will give us a relatively bias-free insight into the text characteristics.\n",
    "\n",
    "All the following steps are similar to the ones performed for identifying the keywords for toxicity in the previous section."
   ]
  },
  {
   "cell_type": "code",
   "execution_count": 90,
   "metadata": {},
   "outputs": [],
   "source": [
    "# labels a comment as toxic if the majority of annoatators did so\n",
    "labels = a_annotations.groupby('rev_id', as_index = False)['attack'].mean()\n",
    "labels['attack_flag'] = 'False'\n",
    "\n",
    "labels.loc[labels['attack'] > 0.5, 'attack_flag'] = 'True'"
   ]
  },
  {
   "cell_type": "code",
   "execution_count": 91,
   "metadata": {},
   "outputs": [
    {
     "data": {
      "text/html": [
       "<div>\n",
       "<style scoped>\n",
       "    .dataframe tbody tr th:only-of-type {\n",
       "        vertical-align: middle;\n",
       "    }\n",
       "\n",
       "    .dataframe tbody tr th {\n",
       "        vertical-align: top;\n",
       "    }\n",
       "\n",
       "    .dataframe thead th {\n",
       "        text-align: right;\n",
       "    }\n",
       "</style>\n",
       "<table border=\"1\" class=\"dataframe\">\n",
       "  <thead>\n",
       "    <tr style=\"text-align: right;\">\n",
       "      <th></th>\n",
       "      <th>rev_id</th>\n",
       "      <th>comment</th>\n",
       "      <th>year</th>\n",
       "      <th>logged_in</th>\n",
       "      <th>ns</th>\n",
       "      <th>sample</th>\n",
       "      <th>split</th>\n",
       "      <th>attack_flag</th>\n",
       "    </tr>\n",
       "  </thead>\n",
       "  <tbody>\n",
       "    <tr>\n",
       "      <th>60</th>\n",
       "      <td>801279</td>\n",
       "      <td>Iraq is not good  ===NEWLINE_TOKENNEWLINE_TO...</td>\n",
       "      <td>2003</td>\n",
       "      <td>False</td>\n",
       "      <td>article</td>\n",
       "      <td>random</td>\n",
       "      <td>train</td>\n",
       "      <td>True</td>\n",
       "    </tr>\n",
       "    <tr>\n",
       "      <th>207</th>\n",
       "      <td>2702703</td>\n",
       "      <td>NEWLINE_TOKENNEWLINE_TOKEN____NEWLINE_TOKENfuc...</td>\n",
       "      <td>2004</td>\n",
       "      <td>False</td>\n",
       "      <td>user</td>\n",
       "      <td>random</td>\n",
       "      <td>train</td>\n",
       "      <td>True</td>\n",
       "    </tr>\n",
       "    <tr>\n",
       "      <th>351</th>\n",
       "      <td>4632658</td>\n",
       "      <td>i have a dick, its bigger than yours! hahaha</td>\n",
       "      <td>2004</td>\n",
       "      <td>False</td>\n",
       "      <td>article</td>\n",
       "      <td>blocked</td>\n",
       "      <td>train</td>\n",
       "      <td>True</td>\n",
       "    </tr>\n",
       "    <tr>\n",
       "      <th>492</th>\n",
       "      <td>6545332</td>\n",
       "      <td>NEWLINE_TOKENNEWLINE_TOKEN== renault ==NEWLINE...</td>\n",
       "      <td>2004</td>\n",
       "      <td>True</td>\n",
       "      <td>user</td>\n",
       "      <td>blocked</td>\n",
       "      <td>train</td>\n",
       "      <td>True</td>\n",
       "    </tr>\n",
       "    <tr>\n",
       "      <th>493</th>\n",
       "      <td>6545351</td>\n",
       "      <td>NEWLINE_TOKENNEWLINE_TOKEN== renault ==NEWLINE...</td>\n",
       "      <td>2004</td>\n",
       "      <td>True</td>\n",
       "      <td>user</td>\n",
       "      <td>blocked</td>\n",
       "      <td>test</td>\n",
       "      <td>True</td>\n",
       "    </tr>\n",
       "  </tbody>\n",
       "</table>\n",
       "</div>"
      ],
      "text/plain": [
       "      rev_id                                            comment  year  \\\n",
       "60    801279    Iraq is not good  ===NEWLINE_TOKENNEWLINE_TO...  2003   \n",
       "207  2702703  NEWLINE_TOKENNEWLINE_TOKEN____NEWLINE_TOKENfuc...  2004   \n",
       "351  4632658       i have a dick, its bigger than yours! hahaha  2004   \n",
       "492  6545332  NEWLINE_TOKENNEWLINE_TOKEN== renault ==NEWLINE...  2004   \n",
       "493  6545351  NEWLINE_TOKENNEWLINE_TOKEN== renault ==NEWLINE...  2004   \n",
       "\n",
       "     logged_in       ns   sample  split attack_flag  \n",
       "60       False  article   random  train        True  \n",
       "207      False     user   random  train        True  \n",
       "351      False  article  blocked  train        True  \n",
       "492       True     user  blocked  train        True  \n",
       "493       True     user  blocked   test        True  "
      ]
     },
     "execution_count": 91,
     "metadata": {},
     "output_type": "execute_result"
    }
   ],
   "source": [
    "a_comments['attack_flag'] = labels['attack_flag']\n",
    "\n",
    "attack = a_comments[a_comments['attack_flag']== 'True']\n",
    "attack.head(5)"
   ]
  },
  {
   "cell_type": "code",
   "execution_count": 92,
   "metadata": {
    "collapsed": true
   },
   "outputs": [
    {
     "name": "stderr",
     "output_type": "stream",
     "text": [
      "C:\\Users\\Frost\\Anaconda3\\lib\\site-packages\\ipykernel_launcher.py:1: SettingWithCopyWarning: \n",
      "A value is trying to be set on a copy of a slice from a DataFrame.\n",
      "Try using .loc[row_indexer,col_indexer] = value instead\n",
      "\n",
      "See the caveats in the documentation: http://pandas.pydata.org/pandas-docs/stable/indexing.html#indexing-view-versus-copy\n",
      "  \"\"\"Entry point for launching an IPython kernel.\n",
      "C:\\Users\\Frost\\Anaconda3\\lib\\site-packages\\ipykernel_launcher.py:2: SettingWithCopyWarning: \n",
      "A value is trying to be set on a copy of a slice from a DataFrame.\n",
      "Try using .loc[row_indexer,col_indexer] = value instead\n",
      "\n",
      "See the caveats in the documentation: http://pandas.pydata.org/pandas-docs/stable/indexing.html#indexing-view-versus-copy\n",
      "  \n",
      "C:\\Users\\Frost\\Anaconda3\\lib\\site-packages\\ipykernel_launcher.py:3: SettingWithCopyWarning: \n",
      "A value is trying to be set on a copy of a slice from a DataFrame.\n",
      "Try using .loc[row_indexer,col_indexer] = value instead\n",
      "\n",
      "See the caveats in the documentation: http://pandas.pydata.org/pandas-docs/stable/indexing.html#indexing-view-versus-copy\n",
      "  This is separate from the ipykernel package so we can avoid doing imports until\n",
      "C:\\Users\\Frost\\Anaconda3\\lib\\site-packages\\ipykernel_launcher.py:4: SettingWithCopyWarning: \n",
      "A value is trying to be set on a copy of a slice from a DataFrame.\n",
      "Try using .loc[row_indexer,col_indexer] = value instead\n",
      "\n",
      "See the caveats in the documentation: http://pandas.pydata.org/pandas-docs/stable/indexing.html#indexing-view-versus-copy\n",
      "  after removing the cwd from sys.path.\n",
      "C:\\Users\\Frost\\Anaconda3\\lib\\site-packages\\ipykernel_launcher.py:5: SettingWithCopyWarning: \n",
      "A value is trying to be set on a copy of a slice from a DataFrame.\n",
      "Try using .loc[row_indexer,col_indexer] = value instead\n",
      "\n",
      "See the caveats in the documentation: http://pandas.pydata.org/pandas-docs/stable/indexing.html#indexing-view-versus-copy\n",
      "  \"\"\"\n",
      "C:\\Users\\Frost\\Anaconda3\\lib\\site-packages\\ipykernel_launcher.py:6: SettingWithCopyWarning: \n",
      "A value is trying to be set on a copy of a slice from a DataFrame.\n",
      "Try using .loc[row_indexer,col_indexer] = value instead\n",
      "\n",
      "See the caveats in the documentation: http://pandas.pydata.org/pandas-docs/stable/indexing.html#indexing-view-versus-copy\n",
      "  \n"
     ]
    }
   ],
   "source": [
    "attack['comment'] = attack['comment'].apply(lambda x: x.replace(\"TOKEN\", \"\"))\n",
    "attack['comment'] = attack['comment'].apply(lambda x: x.replace(\"TAB_TOKEN\", \"\"))\n",
    "attack['comment'] = attack['comment'].apply(lambda x: x.replace(\"NEWLINE\", \"\"))\n",
    "attack['comment'] = attack['comment'].apply(lambda x: x.replace(\"_\", \"\"))\n",
    "attack['comment'] = attack['comment'].apply(lambda x: x.replace(\"==\", \"\"))\n",
    "attack['comment'] = attack['comment'].apply(lambda x: x.replace(\"===\", \"\"))"
   ]
  },
  {
   "cell_type": "code",
   "execution_count": 94,
   "metadata": {},
   "outputs": [],
   "source": [
    "att_tokens = pos_tag_sents(attack[\"comment\"].apply(word_tokenize).tolist())\n"
   ]
  },
  {
   "cell_type": "code",
   "execution_count": 95,
   "metadata": {},
   "outputs": [
    {
     "data": {
      "text/plain": [
       "348325"
      ]
     },
     "execution_count": 95,
     "metadata": {},
     "output_type": "execute_result"
    }
   ],
   "source": [
    "a_words = []\n",
    "for rows in att_tokens:\n",
    "    r = [t[0] for t in rows if t[1] in ['NNP', 'NN', 'JJ']]\n",
    "    a_words.append(r)\n",
    "\n",
    "#Flatten the sublists into a single list\n",
    "awords_flat = [item for sublist in a_words for item in sublist]\n",
    "\n",
    "len(awords_flat)"
   ]
  },
  {
   "cell_type": "code",
   "execution_count": 96,
   "metadata": {},
   "outputs": [],
   "source": [
    "# Counting the most frequent words (atleast 1000 occurances) in the attack comments\n",
    "awords_flat = [x.lower() for x in awords_flat]\n",
    "attack_keywords = Counter(awords_flat).most_common(1000)\n",
    "\n",
    "attack_keywords_df = pd.DataFrame(attack_keywords[0:20], columns =['Keyword', 'Count']) "
   ]
  },
  {
   "cell_type": "code",
   "execution_count": 101,
   "metadata": {},
   "outputs": [],
   "source": [
    "attack_keywords_df['total_comments'] = len(attack['comment'])\n",
    "attack_keywords_df['Frequency(%)'] = (attack_keywords_df['Count']/attack_keywords_df['total_comments'])*100\n",
    "\n",
    "#List of unwanted words that might pass through the pos_tag filter\n",
    "stopwords = ['you', 'my', 'i', 'u', 'a'] #same as used for toxicity\n",
    "\n",
    "attack_keywords_df_clean = attack_keywords_df[~attack_keywords_df['Keyword'].isin(stopwords)]\n"
   ]
  },
  {
   "cell_type": "markdown",
   "metadata": {},
   "source": [
    "Plotting the keywords for both the datasets for comparison"
   ]
  },
  {
   "cell_type": "code",
   "execution_count": 109,
   "metadata": {},
   "outputs": [
    {
     "data": {
      "image/png": "[encoded data removed]",
      "text/plain": [
       "<Figure size 720x720 with 2 Axes>"
      ]
     },
     "metadata": {
      "needs_background": "light"
     },
     "output_type": "display_data"
    }
   ],
   "source": [
    "\n",
    "fig, (ax1, ax2) = plt.subplots(2,figsize=(10, 10))\n",
    "\n",
    "# Plot horizontal bar graph\n",
    "attack_keywords_df_clean.sort_values(by='Frequency(%)').plot.barh(x='Keyword',\n",
    "                      y='Frequency(%)',\n",
    "                      ax=ax1,\n",
    "                      color=\"green\")\n",
    "\n",
    "ax1.set_title(\"Keywords most associated with 'personal attacks'\")\n",
    "\n",
    "\n",
    "\n",
    "# Plot horizontal bar graph\n",
    "toxicity_keywords_df_clean.sort_values(by='Frequency(%)').plot.barh(x='Keyword',\n",
    "                      y='Frequency(%)',\n",
    "                      ax=ax2,\n",
    "                      color=\"purple\")\n",
    "\n",
    "ax2.set_title(\"Keywords most associated with 'toxicity'\")\n",
    "\n",
    "plt.show()"
   ]
  },
  {
   "cell_type": "code",
   "execution_count": null,
   "metadata": {},
   "outputs": [],
   "source": []
  }
 ],
 "metadata": {
  "kernelspec": {
   "display_name": "Python 3",
   "language": "python",
   "name": "python3"
  },
  "language_info": {
   "codemirror_mode": {
    "name": "ipython",
    "version": 3
   },
   "file_extension": ".py",
   "mimetype": "text/x-python",
   "name": "python",
   "nbconvert_exporter": "python",
   "pygments_lexer": "ipython3",
   "version": "3.7.3"
  }
 },
 "nbformat": 4,
 "nbformat_minor": 2
}
